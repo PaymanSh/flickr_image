{
 "metadata": {
  "name": "",
  "signature": "sha256:b5c6547541f65d42cdd8a29c77a5b5276880a9a5ed072b26053d3d8fbf2dcea0"
 },
 "nbformat": 3,
 "nbformat_minor": 0,
 "worksheets": [
  {
   "cells": [
    {
     "cell_type": "code",
     "collapsed": false,
     "input": [
      "import flickr_api, os, json"
     ],
     "language": "python",
     "metadata": {},
     "outputs": [],
     "prompt_number": 2
    },
    {
     "cell_type": "markdown",
     "metadata": {},
     "source": [
      "To be done once"
     ]
    },
    {
     "cell_type": "code",
     "collapsed": false,
     "input": [
      "API_KEY =  '221b016ab88eeb94bff41f729c9ecb05'\n",
      "API_SECRET = '50472b85f5bd6ce1'\n",
      "flickr_api.set_keys(api_key = API_KEY, api_secret = API_SECRET)\n",
      "a = flickr_api.auth.AuthHandler()\n",
      "url = a.get_authorization_url(\"write\")\n",
      "print url"
     ],
     "language": "python",
     "metadata": {},
     "outputs": [
      {
       "output_type": "stream",
       "stream": "stdout",
       "text": [
        "https://www.flickr.com/services/oauth/authorize?oauth_token=72157645630144354-80836f696c5decd1&perms=write\n"
       ]
      }
     ],
     "prompt_number": 3
    },
    {
     "cell_type": "code",
     "collapsed": false,
     "input": [
      "a.set_verifier(\"e8c74eeb113138b0\")\n",
      "flickr_api.set_auth_handler(a)"
     ],
     "language": "python",
     "metadata": {},
     "outputs": [],
     "prompt_number": 4
    },
    {
     "cell_type": "code",
     "collapsed": false,
     "input": [
      "filename = \"./flickrauth\"\n",
      "a.save(filename)"
     ],
     "language": "python",
     "metadata": {},
     "outputs": [],
     "prompt_number": 5
    },
    {
     "cell_type": "markdown",
     "metadata": {},
     "source": [
      "Reusable code"
     ]
    },
    {
     "cell_type": "code",
     "collapsed": false,
     "input": [
      "import flickr_api \n",
      "filename = \"./flickrauth\"\n",
      "\n",
      "API_KEY =  '221b016ab88eeb94bff41f729c9ecb05'\n",
      "API_SECRET = '50472b85f5bd6ce1'\n",
      "flickr_api.set_keys(api_key = API_KEY, api_secret = API_SECRET)\n",
      "\n",
      "a = flickr_api.auth.AuthHandler.load(filename)\n",
      "flickr_api.set_auth_handler(a)"
     ],
     "language": "python",
     "metadata": {},
     "outputs": [],
     "prompt_number": 14
    },
    {
     "cell_type": "code",
     "collapsed": false,
     "input": [
      "a = flickr_api.upload(photo_file = \"/Users/peyman24770/Desktop/jul 3/ECCI002-after rotation and tilt1.tif\", title = \"My title\")"
     ],
     "language": "python",
     "metadata": {},
     "outputs": [],
     "prompt_number": 16
    },
    {
     "cell_type": "code",
     "collapsed": false,
     "input": [
      "print a"
     ],
     "language": "python",
     "metadata": {},
     "outputs": [
      {
       "output_type": "stream",
       "stream": "stdout",
       "text": [
        "Photo(id='14442235737', title='My title')\n"
       ]
      }
     ],
     "prompt_number": 17
    },
    {
     "cell_type": "code",
     "collapsed": false,
     "input": [
      "str(a).find('=')\n",
      "farm = \"\"\n",
      "for i in range(10,21):\n",
      "    farm+=a1[i]\n",
      "print farm"
     ],
     "language": "python",
     "metadata": {},
     "outputs": [
      {
       "output_type": "stream",
       "stream": "stdout",
       "text": [
        "14442235737\n"
       ]
      }
     ],
     "prompt_number": 49
    },
    {
     "cell_type": "code",
     "collapsed": false,
     "input": [
      "def GetSizeURL(ID , size , toClipboard=False):\n",
      "    import requests\n",
      "    import json\n",
      "    import os\n",
      "\n",
      "    r = requests.get('https://api.flickr.com/services/rest/?method=flickr.photos.getSizes&'+\\\n",
      "                 'api_key=c73a20b73b0684e10ee3b64739d15fd9&photo_id=' + str(ID) + '&' +\\\n",
      "                 'format=json&nojsoncallback=1&auth_token=72157645630440104-f39557ea8841c0f9' +\\\n",
      "                 '&api_sig=c9561555659b7407a6c132102ac50e5a')\n",
      "    resp = json.loads(r.text)\n",
      "    for info in resp['sizes']['size']:\n",
      "        if info['label'] == size:\n",
      "            url = info['source']\n",
      "            break\n",
      "    if toClipboard:\n",
      "        os.system(\"echo '%s' | pbcopy\" % str(url))\n",
      "        \n",
      "    return str(url)"
     ],
     "language": "python",
     "metadata": {},
     "outputs": [],
     "prompt_number": 50
    },
    {
     "cell_type": "code",
     "collapsed": false,
     "input": [
      "farmurl = GetSizeURL(farm,'Square', toClipboard=True)"
     ],
     "language": "python",
     "metadata": {},
     "outputs": [],
     "prompt_number": 52
    },
    {
     "cell_type": "code",
     "collapsed": false,
     "input": [
      "print farmurl"
     ],
     "language": "python",
     "metadata": {},
     "outputs": [
      {
       "output_type": "stream",
       "stream": "stdout",
       "text": [
        "https://farm4.staticflickr.com/3899/14442235737_177d64f0f8_s.jpg\n"
       ]
      }
     ],
     "prompt_number": 53
    },
    {
     "cell_type": "code",
     "collapsed": false,
     "input": [],
     "language": "python",
     "metadata": {},
     "outputs": []
    }
   ],
   "metadata": {}
  }
 ]
}